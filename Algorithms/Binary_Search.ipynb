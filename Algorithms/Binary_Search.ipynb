{
 "cells": [
  {
   "cell_type": "markdown",
   "metadata": {},
   "source": [
    "### Binary Search"
   ]
  },
  {
   "cell_type": "code",
   "execution_count": 2,
   "metadata": {},
   "outputs": [],
   "source": [
    "from typing import List"
   ]
  },
  {
   "cell_type": "markdown",
   "metadata": {},
   "source": [
    "### Binary Search\n",
    "You are given an array of distinct integers nums, sorted in ascending order, and an integer target.\n",
    "\n",
    "Implement a function to search for target within nums. If it exists, then return its index, otherwise, return -1.\n",
    "\n",
    "Your solution must run in O(logn) time."
   ]
  },
  {
   "cell_type": "code",
   "execution_count": 3,
   "metadata": {},
   "outputs": [],
   "source": [
    "# Search for target in array\n",
    "def search(nums: List[int], target: int) -> int:\n",
    "        l, r = 0, len(nums) - 1\n",
    "        while l <= r:\n",
    "            mid = (l+r)//2\n",
    "            if nums[mid] == target:\n",
    "                return mid\n",
    "            elif nums[mid] > target:\n",
    "                r = mid - 1\n",
    "            else:\n",
    "                l = mid + 1\n",
    "        return -1"
   ]
  },
  {
   "cell_type": "code",
   "execution_count": 4,
   "metadata": {},
   "outputs": [],
   "source": [
    "nums = [-1,0,2,4,6,8]\n",
    "target = 4\n",
    "assert search(nums, target) == 3, 'Wrong Answer'\n"
   ]
  },
  {
   "cell_type": "markdown",
   "metadata": {},
   "source": [
    "### Search for target in 2D matrix\n",
    "You are given an m x n 2-D integer array matrix and an integer target.\n",
    "\n",
    "Each row in matrix is sorted in non-decreasing order.\n",
    "The first integer of every row is greater than the last integer of the previous row.\n",
    "Return true if target exists within matrix or false otherwise.\n",
    "\n",
    "Can you write a solution that runs in O(log(m * n)) time?"
   ]
  },
  {
   "cell_type": "code",
   "execution_count": 5,
   "metadata": {},
   "outputs": [],
   "source": [
    "#Intuition here is to flatten the matrix and get the index with m*n-1 then use binary search to find the target\n",
    "def searchMatrix(matrix: List[List[int]], target: int) -> bool:\n",
    "    n = len(matrix)\n",
    "    m = len(matrix[0])\n",
    "\n",
    "    l, r = 0, m*n - 1\n",
    "    while l <= r:\n",
    "        mid = (l+r) // 2\n",
    "        i,j = mid//m, mid%m\n",
    "        if matrix[i][j] == target:\n",
    "            return True\n",
    "        elif matrix[i][j] > target:\n",
    "            r = mid - 1\n",
    "        else:\n",
    "            l = mid + 1\n",
    "    return False"
   ]
  },
  {
   "cell_type": "code",
   "execution_count": 6,
   "metadata": {},
   "outputs": [],
   "source": [
    "matrix = [[1,2,4,8],[10,11,12,13],[14,20,30,40]]\n",
    "target = 10\n",
    "assert searchMatrix(matrix, target) == True"
   ]
  },
  {
   "cell_type": "markdown",
   "metadata": {},
   "source": [
    "### Range search with Binary Search\n",
    "\n",
    "Cheat sheet: return l when searching for minimum, r for maximum"
   ]
  },
  {
   "cell_type": "markdown",
   "metadata": {},
   "source": [
    "### Koko Eating Bananas\n",
    "You are given an integer array piles where piles[i] is the number of bananas in the ith pile. You are also given an integer h, which represents the number of hours you have to eat all the bananas.\n",
    "\n",
    "You may decide your bananas-per-hour eating rate of k. Each hour, you may choose a pile of bananas and eats k bananas from that pile. If the pile has less than k bananas, you may finish eating the pile but you can not eat from another pile in the same hour.\n",
    "\n",
    "Return the minimum integer k such that you can eat all the bananas within h hours."
   ]
  },
  {
   "cell_type": "code",
   "execution_count": 9,
   "metadata": {},
   "outputs": [],
   "source": [
    "#Intuition: The speed range for Koko is (1, max(piles))\n",
    "#Use a helper function to determine if Koko finish all the bananas in h hours\n",
    "#If yes, shrink the search window to left side, else search the right side\n",
    "import math\n",
    "def minEatingSpeed(piles: List[int], h: int) -> int:\n",
    "    def can_finish(k):\n",
    "        count = 0\n",
    "        for nana in piles:\n",
    "            count += math.ceil(nana/k)\n",
    "            if count > h:\n",
    "                return False\n",
    "        return True\n",
    "    \n",
    "    l, r = 1, max(piles)\n",
    "    while l <= r:\n",
    "        mid = (l+r)//2\n",
    "        if can_finish(mid):\n",
    "            r = mid - 1\n",
    "        else:\n",
    "            l = mid + 1\n",
    "    return l"
   ]
  },
  {
   "cell_type": "code",
   "execution_count": 10,
   "metadata": {},
   "outputs": [],
   "source": [
    "piles = [1,4,3,2] \n",
    "h = 9\n",
    "assert minEatingSpeed(piles, h) == 2, 'Wrong Answer'"
   ]
  }
 ],
 "metadata": {
  "kernelspec": {
   "display_name": "DSA",
   "language": "python",
   "name": "python3"
  },
  "language_info": {
   "codemirror_mode": {
    "name": "ipython",
    "version": 3
   },
   "file_extension": ".py",
   "mimetype": "text/x-python",
   "name": "python",
   "nbconvert_exporter": "python",
   "pygments_lexer": "ipython3",
   "version": "3.13.2"
  }
 },
 "nbformat": 4,
 "nbformat_minor": 2
}
