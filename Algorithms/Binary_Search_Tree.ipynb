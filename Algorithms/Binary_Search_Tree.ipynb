{
 "cells": [
  {
   "cell_type": "markdown",
   "metadata": {},
   "source": [
    "### Binary Search Tree"
   ]
  },
  {
   "cell_type": "markdown",
   "metadata": {},
   "source": [
    "### 700. Search in a Binary Search Tree\n",
    "You are given the root of a binary search tree (BST) and an integer val.\n",
    "\n",
    "Find the node in the BST that the node's value equals val and return the subtree rooted with that node. If such a node does not exist, return null."
   ]
  },
  {
   "cell_type": "code",
   "execution_count": 1,
   "metadata": {},
   "outputs": [],
   "source": [
    "# Recursively traverse the tree using BST properties (l < root < r)\n",
    "# If leaf node reached and target not found, return None\n",
    "from typing import Optional\n",
    "\n",
    "class TreeNode:\n",
    "    def __init__(self, val=0, left=None, right=None):\n",
    "        self.val = val\n",
    "        self.left = left\n",
    "        self.right = right\n",
    "\n",
    "def searchBST(root: Optional[TreeNode], val: int) -> Optional[TreeNode]:\n",
    "        if not root: return None\n",
    "        if val > root.val:\n",
    "            searchBST(root.right, val)\n",
    "        elif val < root.val:\n",
    "            searchBST(root.left, val)\n",
    "        else:\n",
    "            return root\n",
    "        "
   ]
  }
 ],
 "metadata": {
  "kernelspec": {
   "display_name": "DSA",
   "language": "python",
   "name": "python3"
  },
  "language_info": {
   "codemirror_mode": {
    "name": "ipython",
    "version": 3
   },
   "file_extension": ".py",
   "mimetype": "text/x-python",
   "name": "python",
   "nbconvert_exporter": "python",
   "pygments_lexer": "ipython3",
   "version": "3.13.2"
  }
 },
 "nbformat": 4,
 "nbformat_minor": 2
}
