{
 "cells": [
  {
   "cell_type": "markdown",
   "metadata": {},
   "source": [
    "### Binary Search Tree"
   ]
  },
  {
   "cell_type": "markdown",
   "metadata": {},
   "source": [
    "### 700. Search in a Binary Search Tree\n",
    "You are given the root of a binary search tree (BST) and an integer val.\n",
    "\n",
    "Find the node in the BST that the node's value equals val and return the subtree rooted with that node. If such a node does not exist, return null."
   ]
  },
  {
   "cell_type": "code",
   "execution_count": 1,
   "metadata": {},
   "outputs": [],
   "source": [
    "# Recursively traverse the tree using BST properties (l < root < r)\n",
    "# If leaf node reached and target not found, return None\n",
    "from typing import Optional\n",
    "\n",
    "class TreeNode:\n",
    "    def __init__(self, val=0, left=None, right=None):\n",
    "        self.val = val\n",
    "        self.left = left\n",
    "        self.right = right\n",
    "\n",
    "def searchBST(root: Optional[TreeNode], val: int) -> Optional[TreeNode]:\n",
    "        if not root: return None\n",
    "        if val > root.val:\n",
    "            searchBST(root.right, val)\n",
    "        elif val < root.val:\n",
    "            searchBST(root.left, val)\n",
    "        else:\n",
    "            return root\n",
    "        "
   ]
  },
  {
   "cell_type": "code",
   "execution_count": 2,
   "metadata": {},
   "outputs": [],
   "source": [
    "### Insert node into BST\n",
    "def insert(root:Optional[TreeNode], val:int) -> TreeNode:\n",
    "    if not root: return TreeNode(val)\n",
    "    \n",
    "    if root.val > val:\n",
    "        root.left = insert(root.left, val)\n",
    "    else:\n",
    "        root.right = insert(root.right, val)\n",
    "    return root"
   ]
  },
  {
   "cell_type": "code",
   "execution_count": 5,
   "metadata": {},
   "outputs": [],
   "source": [
    "### Deleting a node from BST\n",
    "### If no right child, make the left child the left child of its grandparent (same with no left child)\n",
    "### If both left and right child, find the min node in that subtree and replace the node to delete with the min val and delete the min node\n",
    "\n",
    "def findMinimum(root:Optional[TreeNode]) -> TreeNode:\n",
    "    curr = root\n",
    "    while curr.left:\n",
    "        curr = curr.left\n",
    "    return curr\n",
    "\n",
    "def delete(root:Optional[TreeNode], val:int) -> TreeNode:\n",
    "    # Base case: no node left just return None\n",
    "    if not root: return None\n",
    "    \n",
    "    # Find the node we're trying to delete\n",
    "    if val > root.val:\n",
    "        root.right = delete(root.right, val)\n",
    "    elif val < root.val:\n",
    "        root.left = delete(root.left, val)\n",
    "    else:\n",
    "        if not root.left:\n",
    "            return root.right\n",
    "        elif not root.right:\n",
    "            return root.left\n",
    "        else:\n",
    "            min_node = findMinimum(root.right) # Find the min node in the right subtree \n",
    "            root.val = min_node.val # Assign that value to root\n",
    "            root.right = delete(root.right, min_node.val) # Remove that min value from the right subtree\n",
    "    return root"
   ]
  },
  {
   "cell_type": "code",
   "execution_count": null,
   "metadata": {},
   "outputs": [],
   "source": []
  }
 ],
 "metadata": {
  "kernelspec": {
   "display_name": "DSA",
   "language": "python",
   "name": "python3"
  },
  "language_info": {
   "codemirror_mode": {
    "name": "ipython",
    "version": 3
   },
   "file_extension": ".py",
   "mimetype": "text/x-python",
   "name": "python",
   "nbconvert_exporter": "python",
   "pygments_lexer": "ipython3",
   "version": "3.13.2"
  }
 },
 "nbformat": 4,
 "nbformat_minor": 2
}
