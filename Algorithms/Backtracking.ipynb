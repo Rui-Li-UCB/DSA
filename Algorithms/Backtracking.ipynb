{
 "cells": [
  {
   "cell_type": "markdown",
   "metadata": {},
   "source": [
    "## Backtracking\n",
    "Exploring all options until exhausted or condition met. If one option is explored and not the one we're looking for, we backtrack to the previous step and continue the search. \n"
   ]
  },
  {
   "cell_type": "code",
   "execution_count": 2,
   "metadata": {},
   "outputs": [],
   "source": [
    "from typing import Optional,List"
   ]
  },
  {
   "cell_type": "markdown",
   "metadata": {},
   "source": [
    "### 112. Path Sum\n",
    "Given the root of a binary tree and an integer targetSum, return true if the tree has a root-to-leaf path such that adding up all the values along the path equals targetSum.\n",
    "\n",
    "A leaf is a node with no children.\n"
   ]
  },
  {
   "cell_type": "code",
   "execution_count": null,
   "metadata": {},
   "outputs": [],
   "source": [
    "# Definition for a binary tree node.\n",
    "class TreeNode:\n",
    "    def __init__(self, val=0, left=None, right=None):\n",
    "        self.val = val\n",
    "        self.left = left\n",
    "        self.right = right\n",
    "\n",
    "def hasPathSum(self, root: Optional[TreeNode], targetSum: int) -> bool:\n",
    "    if not root: return False\n",
    "    targetSum -= root.val # Record current option's value\n",
    "    if targetSum == 0 and not root.left and not root.right:\n",
    "        return True\n",
    "    if self.hasPathSum(root.left, targetSum):\n",
    "        return True\n",
    "    if self.hasPathSum(root.right, targetSum):\n",
    "        return True\n",
    "    targetSum += root.val # Option is a dead end, we backtrack to the previous step\n",
    "    return False\n",
    "        "
   ]
  },
  {
   "cell_type": "markdown",
   "metadata": {},
   "source": [
    "### Subsets\n",
    "Given an array nums of unique integers, return all possible subsets of nums.\n",
    "\n",
    "The solution set must not contain duplicate subsets. You may return the solution in any order."
   ]
  },
  {
   "cell_type": "code",
   "execution_count": null,
   "metadata": {},
   "outputs": [],
   "source": [
    "def subsets(nums: List[int]) -> List[List[int]]:\n",
    "    res = []\n",
    "\n",
    "    def backtrack(i, path):\n",
    "        if i == len(nums):\n",
    "            res.append(path.copy())\n",
    "            return\n",
    "        path.append(nums[i]) # Try path with current number added\n",
    "        backtrack(i+1, path)\n",
    "        path.pop() # Try path without current number added\n",
    "        backtrack(i+1, path)\n",
    "    backtrack(0, [])\n",
    "    return res"
   ]
  },
  {
   "cell_type": "markdown",
   "metadata": {},
   "source": [
    "### Combination Sum\n",
    "\n",
    "You are given an array of distinct integers nums and a target integer target. Your task is to return a list of all unique combinations of nums where the chosen numbers sum to target.\n",
    "\n",
    "The same number may be chosen from nums an unlimited number of times. Two combinations are the same if the frequency of each of the chosen numbers is the same, otherwise they are different.\n",
    "\n",
    "You may return the combinations in any order and the order of the numbers in each combination can be in any order.\n",
    "\n",
    "Example 1:"
   ]
  },
  {
   "cell_type": "code",
   "execution_count": null,
   "metadata": {},
   "outputs": [],
   "source": [
    "def combinationSum(nums: List[int], target: int) -> List[List[int]]:\n",
    "    res = []\n",
    "\n",
    "    def backtrack(i, path, curr_sum):\n",
    "        \n",
    "        if i == len(nums) or curr_sum > target: \n",
    "            #base case 1: if we're over the index range or exceeded the target amount, \n",
    "            #it's determined that we can't find a valid path from here\n",
    "            return\n",
    "\n",
    "        if curr_sum == target:\n",
    "            #base case 2: we found the target\n",
    "            #add path to result\n",
    "            res.append(path.copy())\n",
    "            return\n",
    "        \n",
    "        \n",
    "        curr_sum += nums[i]\n",
    "        path.append(nums[i])\n",
    "        backtrack(i, path, curr_sum) #Explore path where we use the current number again\n",
    "\n",
    "        curr_sum -= nums[i]\n",
    "        path.pop()\n",
    "        backtrack(i+1, path, curr_sum)#Explore path if we move on the next number\n",
    "        #This approach also avoids reusing the same combination of elements. ie [2,2,5] and [5,2,2]\n",
    "        #Because the [5] will only be explore numbers down the list not backwards\n",
    "\n",
    "    backtrack(0, [],0)\n",
    "    return res"
   ]
  }
 ],
 "metadata": {
  "kernelspec": {
   "display_name": "DSA",
   "language": "python",
   "name": "python3"
  },
  "language_info": {
   "codemirror_mode": {
    "name": "ipython",
    "version": 3
   },
   "file_extension": ".py",
   "mimetype": "text/x-python",
   "name": "python",
   "nbconvert_exporter": "python",
   "pygments_lexer": "ipython3",
   "version": "3.13.2"
  }
 },
 "nbformat": 4,
 "nbformat_minor": 2
}
