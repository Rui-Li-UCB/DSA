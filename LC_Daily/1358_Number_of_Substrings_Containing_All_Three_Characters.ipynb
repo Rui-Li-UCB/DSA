{
 "cells": [
  {
   "cell_type": "markdown",
   "metadata": {},
   "source": [
    "### 1358. Number of Substrings Containing All Three Characters\n",
    "\n",
    "Given a string s consisting only of characters a, b and c.\n",
    "\n",
    "Return the number of substrings containing at least one occurrence of all these characters a, b and c."
   ]
  },
  {
   "cell_type": "code",
   "execution_count": 1,
   "metadata": {},
   "outputs": [],
   "source": [
    "# The intuition is similar to 3306\n",
    "# Use a hashmap to track occurrences each character in 'abc'\n",
    "# Should len(hashmap key) == 3, we have found the window satisfying the condition. \n",
    "# Increment permutation count and shrink window size from left till condition is no longer valid\n",
    "\n",
    "from collections import defaultdict\n",
    "\n",
    "def numberOfSubstrings(s):\n",
    "    l = 0\n",
    "    res = 0\n",
    "    cnt = defaultdict(int)\n",
    "    \n",
    "    for r in range(len(s)):\n",
    "        if s[r] in 'abc':\n",
    "            cnt[s[r]] += 1\n",
    "        while len(cnt) == 3:\n",
    "            res += len(s) - r\n",
    "            cnt[s[l]] -= 1\n",
    "            if cnt[s[l]] == 0:\n",
    "                cnt.pop(s[l])\n",
    "            l += 1\n",
    "    return res"
   ]
  },
  {
   "cell_type": "code",
   "execution_count": 2,
   "metadata": {},
   "outputs": [
    {
     "data": {
      "text/plain": [
       "True"
      ]
     },
     "execution_count": 2,
     "metadata": {},
     "output_type": "execute_result"
    }
   ],
   "source": [
    "s = 'abcabc'\n",
    "numberOfSubstrings(s) == 10"
   ]
  },
  {
   "cell_type": "code",
   "execution_count": 3,
   "metadata": {},
   "outputs": [
    {
     "data": {
      "text/plain": [
       "True"
      ]
     },
     "execution_count": 3,
     "metadata": {},
     "output_type": "execute_result"
    }
   ],
   "source": [
    "s = 'aaacb'\n",
    "numberOfSubstrings(s) == 3"
   ]
  }
 ],
 "metadata": {
  "kernelspec": {
   "display_name": "DSA",
   "language": "python",
   "name": "python3"
  },
  "language_info": {
   "codemirror_mode": {
    "name": "ipython",
    "version": 3
   },
   "file_extension": ".py",
   "mimetype": "text/x-python",
   "name": "python",
   "nbconvert_exporter": "python",
   "pygments_lexer": "ipython3",
   "version": "3.13.2"
  }
 },
 "nbformat": 4,
 "nbformat_minor": 2
}
