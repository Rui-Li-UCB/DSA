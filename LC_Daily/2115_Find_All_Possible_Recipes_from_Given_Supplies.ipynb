{
 "cells": [
  {
   "cell_type": "markdown",
   "metadata": {},
   "source": [
    "### 2115. Find All Possible Recipes from Given Supplies\n",
    "You have information about n different recipes. You are given a string array recipes and a 2D string array ingredients. The ith recipe has the name recipes[i], and you can create it if you have all the needed ingredients from ingredients[i]. A recipe can also be an ingredient for other recipes, i.e., ingredients[i] may contain a string that is in recipes.\n",
    "\n",
    "You are also given a string array supplies containing all the ingredients that you initially have, and you have an infinite supply of all of them.\n",
    "\n",
    "Return a list of all the recipes that you can create. You may return the answer in any order.\n",
    "\n",
    "Note that two recipes may contain each other in their ingredients."
   ]
  },
  {
   "cell_type": "code",
   "execution_count": null,
   "metadata": {},
   "outputs": [],
   "source": [
    "# Key points:\n",
    "# 1. Ingredients can also be recipes\n",
    "# Intuition:\n",
    "# Use dfs to traverse all ingredients needed to make a recipe \n",
    "# Should any ingredient be un-makeable - return False \n",
    "# Assume all items to be un-makeable initially; this avoids cycles a -> b -> a\n",
    "# Should we be able to traverse all its dependencies/neighbors without prematurely returning False, we update this item to be makeable.\n",
    "from typing import List\n",
    "def findAllRecipes(recipes: List[str], ingredients: List[List[str]], supplies: List[str]) -> List[str]:\n",
    "    # 1. Build adjacency list with recipes and ingredients\n",
    "    menu = {recipes[i]:ingredients[i] for i in range(len(recipes))}\n",
    "    \n",
    "    # 2. Build hashmap to cache recipes make-able\n",
    "    can_make = {s: True for s in supplies}\n",
    "    \n",
    "    # 3. DFS\n",
    "    def dfs(item):\n",
    "        if item in can_make:\n",
    "            return can_make[item]\n",
    "        if not item in menu:\n",
    "            can_make[item] = False\n",
    "            return can_make[item]\n",
    "        \n",
    "        can_make[item] = False #Initially we assume this item to be unmake-able; this will avoid cycles\n",
    "        for nei in menu[item]:\n",
    "            if not dfs(nei):\n",
    "                return False\n",
    "        can_make[item] = True\n",
    "        return can_make[item]\n",
    "    \n",
    "    # 4. loop over recipes and return what we can make\n",
    "    return [r for r in recipes if dfs(r)]\n"
   ]
  },
  {
   "cell_type": "code",
   "execution_count": 2,
   "metadata": {},
   "outputs": [],
   "source": [
    "recipes = [\"ju\",\"fzjnm\",\"x\",\"e\",\"zpmcz\",\"h\",\"q\"]\n",
    "ingredients = [[\"d\"],[\"hveml\",\"f\",\"cpivl\"],[\"cpivl\",\"zpmcz\",\"h\",\"e\",\"fzjnm\",\"ju\"],[\"cpivl\",\"hveml\",\"zpmcz\",\"ju\",\"h\"],[\"h\",\"fzjnm\",\"e\",\"q\",\"x\"],[\"d\",\"hveml\",\"cpivl\",\"q\",\"zpmcz\",\"ju\",\"e\",\"x\"],[\"f\",\"hveml\",\"cpivl\"]]\n",
    "supplies = [\"f\",\"hveml\",\"cpivl\",\"d\"]\n",
    "\n",
    "assert findAllRecipes(recipes, ingredients, supplies) == [\"ju\",\"fzjnm\",\"q\"], \"Wrong Answer\""
   ]
  }
 ],
 "metadata": {
  "kernelspec": {
   "display_name": "DSA",
   "language": "python",
   "name": "python3"
  },
  "language_info": {
   "codemirror_mode": {
    "name": "ipython",
    "version": 3
   },
   "file_extension": ".py",
   "mimetype": "text/x-python",
   "name": "python",
   "nbconvert_exporter": "python",
   "pygments_lexer": "ipython3",
   "version": "3.13.2"
  }
 },
 "nbformat": 4,
 "nbformat_minor": 2
}
