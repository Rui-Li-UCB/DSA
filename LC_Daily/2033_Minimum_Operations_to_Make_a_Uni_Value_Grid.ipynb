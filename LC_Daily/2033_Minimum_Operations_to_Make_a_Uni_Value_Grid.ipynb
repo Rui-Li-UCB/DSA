{
 "cells": [
  {
   "cell_type": "markdown",
   "metadata": {},
   "source": [
    "### 2033. Minimum Operations to Make a Uni-Value Grid\n",
    "\n",
    "You are given a 2D integer grid of size m x n and an integer x. In one operation, you can add x to or subtract x from any element in the grid.\n",
    "\n",
    "A uni-value grid is a grid where all the elements of it are equal.\n",
    "\n",
    "Return the minimum number of operations to make the grid uni-value. If it is not possible, return -1."
   ]
  },
  {
   "cell_type": "code",
   "execution_count": 3,
   "metadata": {},
   "outputs": [],
   "source": [
    "# Intuition: The quotient left from each element after dividing by x needs to be the same;\n",
    "# ie: they have to be able to reduce to the same y = ax + b function in order for such operations to exist.\n",
    "from typing import List\n",
    "def minOperations(grid: List[List[int]], x: int) -> int:\n",
    "    \n",
    "    #1. flatten the grid and sort it\n",
    "    #During the loops, if any quotient is different from the rest return -1 \n",
    "    nums = []\n",
    "    for i in range(len(grid)):\n",
    "        for j in range(len(grid[0])):\n",
    "            curr = grid[i][j]\n",
    "            if curr % x != grid[0][0] % x:\n",
    "                return - 1\n",
    "            nums.append(curr)\n",
    "    nums.sort()\n",
    "    \n",
    "    #2.Calculate the operations it take for each element == nums[mid]\n",
    "    mid = len(nums)//2\n",
    "    ops = sum(abs(nums[mid] - nums[i]) //x for i in range(len(nums)))\n",
    "    return ops"
   ]
  },
  {
   "cell_type": "code",
   "execution_count": 4,
   "metadata": {},
   "outputs": [],
   "source": [
    "grid = [[2,4],[6,8]]\n",
    "x = 2\n",
    "assert minOperations(grid, x) == 4, \"Wrong Answer\""
   ]
  }
 ],
 "metadata": {
  "kernelspec": {
   "display_name": "DSA",
   "language": "python",
   "name": "python3"
  },
  "language_info": {
   "codemirror_mode": {
    "name": "ipython",
    "version": 3
   },
   "file_extension": ".py",
   "mimetype": "text/x-python",
   "name": "python",
   "nbconvert_exporter": "python",
   "pygments_lexer": "ipython3",
   "version": "3.13.2"
  }
 },
 "nbformat": 4,
 "nbformat_minor": 2
}
