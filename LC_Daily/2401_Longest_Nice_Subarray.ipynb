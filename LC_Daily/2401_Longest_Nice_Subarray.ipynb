{
 "cells": [
  {
   "cell_type": "markdown",
   "metadata": {},
   "source": [
    "### 2401. Longest Nice Subarray\n",
    "You are given an array nums consisting of positive integers.\n",
    "\n",
    "We call a subarray of nums nice if the bitwise AND of every pair of elements that are in different positions in the subarray is equal to 0.\n",
    "\n",
    "Return the length of the longest nice subarray.\n",
    "\n",
    "A subarray is a contiguous part of an array.\n",
    "\n",
    "Note that subarrays of length 1 are always considered nice."
   ]
  },
  {
   "cell_type": "code",
   "execution_count": 3,
   "metadata": {},
   "outputs": [],
   "source": [
    "# Intuition: Use sliding window method\n",
    "# Curr: Track current set bits in window (&)\n",
    "# If nums[r] element makes the current window invalid, unset the left element by using XOR (^) with curr\n",
    "# Increment l till window becomes valid again\n",
    "# Track longest valid window range\n",
    "\n",
    "from typing import List\n",
    "def longestNiceSubarray(nums: List[int]) -> int:\n",
    "    l, curr, res = 0, 0 ,0\n",
    "    for r in range(len(nums)):\n",
    "        while curr & nums[r]:\n",
    "            curr = curr ^ nums[l]\n",
    "            l += 1\n",
    "        curr = curr | nums[r]\n",
    "        res = max(res, r-l+1)\n",
    "    return res"
   ]
  },
  {
   "cell_type": "code",
   "execution_count": 4,
   "metadata": {},
   "outputs": [],
   "source": [
    "nums = [1,3,8,48,10]\n",
    "assert longestNiceSubarray(nums) == 3, 'Wrong Answer'"
   ]
  }
 ],
 "metadata": {
  "kernelspec": {
   "display_name": "DSA",
   "language": "python",
   "name": "python3"
  },
  "language_info": {
   "codemirror_mode": {
    "name": "ipython",
    "version": 3
   },
   "file_extension": ".py",
   "mimetype": "text/x-python",
   "name": "python",
   "nbconvert_exporter": "python",
   "pygments_lexer": "ipython3",
   "version": "3.13.2"
  }
 },
 "nbformat": 4,
 "nbformat_minor": 2
}
