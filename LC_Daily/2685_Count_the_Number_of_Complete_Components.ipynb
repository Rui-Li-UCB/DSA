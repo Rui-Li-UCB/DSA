{
 "cells": [
  {
   "cell_type": "markdown",
   "metadata": {},
   "source": [
    "### 2685. Count the Number of Complete Components\n",
    "You are given an integer n. There is an undirected graph with n vertices, numbered from 0 to n - 1. You are given a 2D integer array edges where edges[i] = [ai, bi] denotes that there exists an undirected edge connecting vertices ai and bi.\n",
    "\n",
    "Return the number of complete connected components of the graph.\n",
    "\n",
    "A connected component is a subgraph of a graph in which there exists a path between any two vertices, and no vertex of the subgraph shares an edge with a vertex outside of the subgraph.\n",
    "\n",
    "A connected component is said to be complete if there exists an edge between every pair of its vertices."
   ]
  },
  {
   "cell_type": "code",
   "execution_count": 4,
   "metadata": {},
   "outputs": [],
   "source": [
    "# Intuition: For each node in a component, check if they have n-1 edges; n being total nodes in a component;\n",
    "\n",
    "from typing import List\n",
    "from collections import defaultdict\n",
    "def countCompleteComponents(n: int, edges: List[List[int]]) -> int:\n",
    "    # 1. Build adjacency list to store edges\n",
    "    adj_list = defaultdict(list)\n",
    "    for v1, v2 in edges:\n",
    "        adj_list[v1].append(v2)\n",
    "        adj_list[v2].append(v1)\n",
    "        \n",
    "    # 2. Use DFS to traverse each node; Tracking nodes in the same component\n",
    "    def dfs(node):\n",
    "        visited.add(node)\n",
    "        comp.add(node)\n",
    "        for nei in adj_list[node]:\n",
    "            if not nei in visited:\n",
    "                dfs(nei)\n",
    "    \n",
    "    components = {}\n",
    "    visited = set()\n",
    "    for i in range(n):\n",
    "        comp = set()\n",
    "        if not i in visited:\n",
    "            dfs(i)\n",
    "            components[i] = comp\n",
    "            \n",
    "    # 3. For each component, check if each node has n-1 edges\n",
    "    res = 0\n",
    "    for node in components:\n",
    "        n = len(components[node])\n",
    "        res += int(all([len(adj_list[i])==n-1 for i in components[node]]))\n",
    "    return res\n",
    "            "
   ]
  },
  {
   "cell_type": "code",
   "execution_count": 5,
   "metadata": {},
   "outputs": [],
   "source": [
    "n = 6\n",
    "edges = [[0,1],[0,2],[1,2],[3,4]]\n",
    "assert countCompleteComponents(n, edges) == 3, \"Wrong Answer\""
   ]
  }
 ],
 "metadata": {
  "kernelspec": {
   "display_name": "DSA",
   "language": "python",
   "name": "python3"
  },
  "language_info": {
   "codemirror_mode": {
    "name": "ipython",
    "version": 3
   },
   "file_extension": ".py",
   "mimetype": "text/x-python",
   "name": "python",
   "nbconvert_exporter": "python",
   "pygments_lexer": "ipython3",
   "version": "3.13.2"
  }
 },
 "nbformat": 4,
 "nbformat_minor": 2
}
