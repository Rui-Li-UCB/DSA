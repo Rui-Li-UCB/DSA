{
 "cells": [
  {
   "cell_type": "markdown",
   "metadata": {},
   "source": [
    "### 3306. Count of Substrings Containing Every Vowel and K Consonants II\n",
    "You are given a string word and a non-negative integer k.\n",
    "\n",
    "Return the total number of substrings of word that contain every vowel ('a', 'e', 'i', 'o', and 'u') at least once and exactly k consonants."
   ]
  },
  {
   "cell_type": "code",
   "execution_count": 4,
   "metadata": {},
   "outputs": [],
   "source": [
    "# The intuition is to use substring count with >= k consonants minus substring count with >= k+1 to get substring with exactly k consonants\n",
    "# Use sliding window to create a function that calculates the substring count\n",
    "\n",
    "from collections import defaultdict\n",
    "\n",
    "def countOfSubstrings(word: str, k: int) -> int:\n",
    "    \n",
    "    def atleastk(k):\n",
    "        cnt = defaultdict(int)\n",
    "        res = 0\n",
    "        l = 0\n",
    "        non_vowel = 0\n",
    "        for r in range(len(word)):\n",
    "            if word[r] in 'aeiou':\n",
    "                cnt[word[r]] += 1\n",
    "            else:\n",
    "                non_vowel += 1\n",
    "            while len(cnt) == 5 and non_vowel >= k:\n",
    "                # while the window is valid (5 vowels and at least k consonants), permutation of substring is from l to r and then r to end of string \n",
    "                # resulting in len(word) - r different permutations;\n",
    "                res += (len(word) - r) \n",
    "                if word[l] in 'aeiou':\n",
    "                    cnt[word[l]] -= 1\n",
    "                    if cnt[word[l]] == 0:\n",
    "                        cnt.pop(word[l])\n",
    "                else:\n",
    "                    non_vowel -= 1\n",
    "                l += 1\n",
    "        return res\n",
    "    return atleastk(k) - atleastk(k+1)"
   ]
  },
  {
   "cell_type": "code",
   "execution_count": 5,
   "metadata": {},
   "outputs": [
    {
     "data": {
      "text/plain": [
       "True"
      ]
     },
     "execution_count": 5,
     "metadata": {},
     "output_type": "execute_result"
    }
   ],
   "source": [
    "word = \"aeioqq\"\n",
    "k = 1\n",
    "countOfSubstrings(word, k) == 0"
   ]
  },
  {
   "cell_type": "code",
   "execution_count": 6,
   "metadata": {},
   "outputs": [
    {
     "data": {
      "text/plain": [
       "True"
      ]
     },
     "execution_count": 6,
     "metadata": {},
     "output_type": "execute_result"
    }
   ],
   "source": [
    "word = \"ieaouqqieaouqq\"\n",
    "k = 1\n",
    "countOfSubstrings(word, k) == 3"
   ]
  }
 ],
 "metadata": {
  "kernelspec": {
   "display_name": "DSA",
   "language": "python",
   "name": "python3"
  },
  "language_info": {
   "codemirror_mode": {
    "name": "ipython",
    "version": 3
   },
   "file_extension": ".py",
   "mimetype": "text/x-python",
   "name": "python",
   "nbconvert_exporter": "python",
   "pygments_lexer": "ipython3",
   "version": "3.13.2"
  }
 },
 "nbformat": 4,
 "nbformat_minor": 2
}
