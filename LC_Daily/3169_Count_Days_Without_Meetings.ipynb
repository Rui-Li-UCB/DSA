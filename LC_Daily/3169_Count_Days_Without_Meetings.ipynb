{
 "cells": [
  {
   "cell_type": "markdown",
   "metadata": {},
   "source": [
    "### 3169. Count Days Without Meetings\n",
    "You are given a positive integer days representing the total number of days an employee is available for work (starting from day 1). You are also given a 2D array meetings of size n where, meetings[i] = [start_i, end_i] represents the starting and ending days of meeting i (inclusive).\n",
    "\n",
    "Return the count of days when the employee is available for work but no meetings are scheduled.\n",
    "\n",
    "Note: The meetings may overlap.\n"
   ]
  },
  {
   "cell_type": "code",
   "execution_count": 2,
   "metadata": {},
   "outputs": [],
   "source": [
    "# Intuition: Meetings may overlap -> intervals problem\n",
    "from typing import List\n",
    "def countDays(days: int, meetings: List[List[int]]) -> int:\n",
    "    meetings.sort()\n",
    "    max_e = 0\n",
    "    for s, e in meetings:\n",
    "        s = max(max_e, s)\n",
    "        days -= max(0, e - s + 1)\n",
    "        max_e = max(max_e, e + 1)\n",
    "    return days"
   ]
  },
  {
   "cell_type": "code",
   "execution_count": 3,
   "metadata": {},
   "outputs": [],
   "source": [
    "days = 10\n",
    "meetings = [[5,7],[1,3],[9,10]]\n",
    "assert countDays(days, meetings) == 2, \"Wrong Answer\""
   ]
  }
 ],
 "metadata": {
  "kernelspec": {
   "display_name": "DSA",
   "language": "python",
   "name": "python3"
  },
  "language_info": {
   "codemirror_mode": {
    "name": "ipython",
    "version": 3
   },
   "file_extension": ".py",
   "mimetype": "text/x-python",
   "name": "python",
   "nbconvert_exporter": "python",
   "pygments_lexer": "ipython3",
   "version": "3.13.2"
  }
 },
 "nbformat": 4,
 "nbformat_minor": 2
}
