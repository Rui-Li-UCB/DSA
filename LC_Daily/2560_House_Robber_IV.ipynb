{
 "cells": [
  {
   "cell_type": "markdown",
   "metadata": {},
   "source": [
    "### 2560. House Robber IV\n",
    "There are several consecutive houses along a street, each of which has some money inside. There is also a robber, who wants to steal money from the homes, but he refuses to steal from adjacent homes.\n",
    "\n",
    "The capability of the robber is the maximum amount of money he steals from one house of all the houses he robbed.\n",
    "\n",
    "You are given an integer array nums representing how much money is stashed in each house. More formally, the ith house from the left has nums[i] dollars.\n",
    "\n",
    "You are also given an integer k, representing the minimum number of houses the robber will steal from. It is always possible to steal at least k houses.\n",
    "\n",
    "Return the minimum capability of the robber out of all the possible ways to steal at least k houses.\n",
    "\n",
    " "
   ]
  },
  {
   "cell_type": "code",
   "execution_count": 1,
   "metadata": {},
   "outputs": [],
   "source": [
    "# Intuition: Use binary search to find minimum of max robbable houses \n",
    "# Use min and max of nums to create range of possible capabilities\n",
    "# Create a can_rob helper function to check if given possible capabilty could suffice k, if so narrow search to lower half of search range\n",
    "\n",
    "def minCapability(nums, k):\n",
    "    \n",
    "    def can_rob(mid):\n",
    "        i = 0\n",
    "        houses = 0\n",
    "        while i < len(nums):\n",
    "            if nums[i] <= mid:\n",
    "                houses += 1\n",
    "                i += 2\n",
    "            else:\n",
    "                i += 1\n",
    "            if houses == k:\n",
    "                break\n",
    "        return houses >= k\n",
    "    \n",
    "    l, r = min(nums), max(nums)\n",
    "    while l < r:\n",
    "        mid = (l+r)//2\n",
    "        if can_rob(mid):\n",
    "            r = mid\n",
    "        else:\n",
    "            l = mid + 1\n",
    "            \n",
    "    return r"
   ]
  },
  {
   "cell_type": "code",
   "execution_count": 2,
   "metadata": {},
   "outputs": [
    {
     "data": {
      "text/plain": [
       "True"
      ]
     },
     "execution_count": 2,
     "metadata": {},
     "output_type": "execute_result"
    }
   ],
   "source": [
    "nums = [2,3,5,9] \n",
    "k = 2\n",
    "minCapability(nums, k) == 5"
   ]
  }
 ],
 "metadata": {
  "kernelspec": {
   "display_name": "DSA",
   "language": "python",
   "name": "python3"
  },
  "language_info": {
   "codemirror_mode": {
    "name": "ipython",
    "version": 3
   },
   "file_extension": ".py",
   "mimetype": "text/x-python",
   "name": "python",
   "nbconvert_exporter": "python",
   "pygments_lexer": "ipython3",
   "version": "3.13.2"
  }
 },
 "nbformat": 4,
 "nbformat_minor": 2
}
