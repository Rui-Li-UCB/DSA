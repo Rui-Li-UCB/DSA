{
 "cells": [
  {
   "cell_type": "markdown",
   "metadata": {},
   "source": [
    "### 2594. Minimum Time to Repair Cars\n",
    "You are given an integer array ranks representing the ranks of some mechanics. ranksi is the rank of the ith mechanic. A mechanic with a rank r can repair n cars in r * n2 minutes.\n",
    "\n",
    "You are also given an integer cars representing the total number of cars waiting in the garage to be repaired.\n",
    "\n",
    "Return the minimum time taken to repair all the cars.\n",
    "\n",
    "Note: All the mechanics can repair the cars simultaneously."
   ]
  },
  {
   "cell_type": "code",
   "execution_count": null,
   "metadata": {},
   "outputs": [],
   "source": [
    "# Intuition: Use binary search to find minimum feasible time in range(0, max(ranks)*(all the cars) ^ 2)\n",
    "# The upper bound is if we let the max rank mechanic fix all the cars alone\n",
    "# Use helper function to determine if given time is enough to get all the cars fixed; max-cars that can be fixed in the alotted time is floor(sqrt(time/rank))\n",
    "from math import *\n",
    "def repairCars(ranks, cars):\n",
    "    def can_fix(mid):\n",
    "        total = 0\n",
    "        for r in ranks:\n",
    "            total += floor(sqrt(mid/r))\n",
    "            \n",
    "        return total >= cars\n",
    "    \n",
    "    l, r = 0, max(ranks) * cars * cars\n",
    "    while l <= r:\n",
    "        mid = (l+r) // 2\n",
    "        if can_fix(mid):\n",
    "            r = mid - 1\n",
    "        else:\n",
    "            l = mid + 1\n",
    "    \n",
    "    return l #Return l when searching for minimum of threshold"
   ]
  },
  {
   "cell_type": "code",
   "execution_count": 12,
   "metadata": {},
   "outputs": [],
   "source": [
    "ranks = [4,2,3,1] \n",
    "cars = 10\n",
    "assert repairCars(ranks, cars) == 16, 'Wrong Answer'"
   ]
  }
 ],
 "metadata": {
  "kernelspec": {
   "display_name": "DSA",
   "language": "python",
   "name": "python3"
  },
  "language_info": {
   "codemirror_mode": {
    "name": "ipython",
    "version": 3
   },
   "file_extension": ".py",
   "mimetype": "text/x-python",
   "name": "python",
   "nbconvert_exporter": "python",
   "pygments_lexer": "ipython3",
   "version": "3.13.2"
  }
 },
 "nbformat": 4,
 "nbformat_minor": 2
}
