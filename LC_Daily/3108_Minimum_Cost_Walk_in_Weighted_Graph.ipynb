{
 "cells": [
  {
   "cell_type": "markdown",
   "metadata": {},
   "source": [
    "### 3108. Minimum Cost Walk in Weighted Graph\n",
    "There is an undirected weighted graph with n vertices labeled from 0 to n - 1.\n",
    "\n",
    "You are given the integer n and an array edges, where edges[i] = [ui, vi, wi] indicates that there is an edge between vertices ui and vi with a weight of wi.\n",
    "\n",
    "A walk on a graph is a sequence of vertices and edges. The walk starts and ends with a vertex, and each edge connects the vertex that comes before it and the vertex that comes after it. It's important to note that a walk may visit the same edge or vertex more than once.\n",
    "\n",
    "The cost of a walk starting at node u and ending at node v is defined as the bitwise AND of the weights of the edges traversed during the walk. In other words, if the sequence of edge weights encountered during the walk is w0, w1, w2, ..., wk, then the cost is calculated as w0 & w1 & w2 & ... & wk, where & denotes the bitwise AND operator.\n",
    "\n",
    "You are also given a 2D array query, where query[i] = [si, ti]. For each query, you need to find the minimum cost of the walk starting at vertex si and ending at vertex ti. If there exists no such walk, the answer is -1.\n",
    "\n",
    "Return the array answer, where answer[i] denotes the minimum cost of a walk for query i."
   ]
  },
  {
   "cell_type": "code",
   "execution_count": 9,
   "metadata": {},
   "outputs": [],
   "source": [
    "# Key points to note:\n",
    "# 1. A walk is different from a path, a walk means we can backtrack \n",
    "# 2. The prompt indicates multiple edges between a vertex.\n",
    "# 3. Bitwise AND operation would not result in a number that is larger than either of the two they are performing the operation on.\n",
    "#\n",
    "# Intuition:\n",
    "# Use union find to find all the connected components in the graph.\n",
    "# Use the key point #3 & 1 - the minimum cost of a walk between two connected vertex is therefore the cost of the component they belong to. \n",
    "# ie; if we can get from v1 to v2, we'd just make them walk the entire graph in the worst case to minimize the cost by ANDing as many edges as possible.\n",
    "\n",
    "from typing import List\n",
    "\n",
    "class UnionFind:\n",
    "    def __init__(self, n:int) -> None:\n",
    "        self.parent = list(range(n))\n",
    "        self.size = [1]*n #How many nodes in this tree, uf optimization\n",
    "    def find(self, x:int) -> int:\n",
    "        if x != self.parent[x]: #If x is not it's own parent, we travel up the tree to find the element that is its own parent\n",
    "            self.parent[x] = self.find(self.parent[x]) #updating to point every node to the tree's root\n",
    "        return self.parent[x]\n",
    "    def union(self, x:int, y:int) ->int:\n",
    "        rootx = self.find(x)\n",
    "        rooty = self.find(y)\n",
    "        if rootx != rooty:\n",
    "            if self.size[rootx] > self.size[rooty]: #we put the smaller tree under the bigger tree. ie: make the smaller tree's root the bigger tree's root\n",
    "                self.parent[rooty] = rootx\n",
    "                self.size[rootx] += self.size[rooty]\n",
    "            else:\n",
    "                self.parent[rootx] = rooty\n",
    "                self.size[rooty] += self.size[rootx]\n",
    "\n",
    "def minimumCost(n: int, edges: List[List[int]], query: List[List[int]]) -> List[int]:\n",
    "    #1. Build graph\n",
    "    uf = UnionFind(n)\n",
    "    for v1, v2, w in edges:\n",
    "        uf.union(v1,v2)\n",
    "        \n",
    "    #2. Build hashmap to track component - walk cost\n",
    "    comp_cost = {}\n",
    "    for v1, v2, w in edges:\n",
    "        root = uf.find(v1)\n",
    "        if root not in comp_cost:\n",
    "            comp_cost[root] = w\n",
    "        else:\n",
    "            comp_cost[root] &= w\n",
    "    \n",
    "    #3. Answer the queries - if v1 and v2 are in the same component, the minimum walk cost is the component walk cost\n",
    "    res = []\n",
    "    for s, e in query:\n",
    "        roots = uf.find(s)\n",
    "        roote = uf.find(e)\n",
    "        if roots != roote:\n",
    "            res.append(-1)\n",
    "        else:\n",
    "            res.append(comp_cost[roots])\n",
    "    return res\n",
    "            \n",
    "        "
   ]
  },
  {
   "cell_type": "code",
   "execution_count": 11,
   "metadata": {},
   "outputs": [],
   "source": [
    "n = 5\n",
    "edges = [[0,1,7],[1,3,7],[1,2,1]]\n",
    "query = [[0,3],[3,4]]\n",
    "\n",
    "assert minimumCost(n, edges, query) == [1, -1], \"Wrong Answer\""
   ]
  }
 ],
 "metadata": {
  "kernelspec": {
   "display_name": "DSA",
   "language": "python",
   "name": "python3"
  },
  "language_info": {
   "codemirror_mode": {
    "name": "ipython",
    "version": 3
   },
   "file_extension": ".py",
   "mimetype": "text/x-python",
   "name": "python",
   "nbconvert_exporter": "python",
   "pygments_lexer": "ipython3",
   "version": "3.13.2"
  }
 },
 "nbformat": 4,
 "nbformat_minor": 2
}
