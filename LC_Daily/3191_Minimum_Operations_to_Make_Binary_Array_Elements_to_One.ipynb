{
 "cells": [
  {
   "cell_type": "markdown",
   "metadata": {},
   "source": [
    "### 3191. Minimum Operations to Make Binary Array Elements Equal to One I\n",
    "You are given a binary array nums.\n",
    "\n",
    "You can do the following operation on the array any number of times (possibly zero):\n",
    "\n",
    "Choose any 3 consecutive elements from the array and flip all of them.\n",
    "Flipping an element means changing its value from 0 to 1, and from 1 to 0.\n",
    "\n",
    "Return the minimum number of operations required to make all elements in nums equal to 1. If it is impossible, return -1."
   ]
  },
  {
   "cell_type": "code",
   "execution_count": 3,
   "metadata": {},
   "outputs": [],
   "source": [
    "#Intuition: Take greedy approach, if 0 is encountered, flip entire sub array (XOR 1) with length of 3 starting at l\n",
    "#Only need to check last 2 elements to see if they are == 1 because their values are determined by the last flip\n",
    "from typing import List\n",
    "def minOperations(nums: List[int]) -> int:\n",
    "    l = 0\n",
    "    count = 0\n",
    "    \n",
    "    while l < len(nums) - 2:\n",
    "        if nums[l] == 0:\n",
    "            nums[l], nums[l+1], nums[l+2] = 1, nums[l+1]^1, nums[l+2] ^ 1\n",
    "            count += 1\n",
    "        l += 1\n",
    "    return count if sum(nums[-2:]) == 2 else - 1\n",
    "    "
   ]
  },
  {
   "cell_type": "code",
   "execution_count": 4,
   "metadata": {},
   "outputs": [],
   "source": [
    "nums = [0,1,1,1,0,0]\n",
    "assert minOperations(nums) == 3, 'Wrong Answer'"
   ]
  }
 ],
 "metadata": {
  "kernelspec": {
   "display_name": "DSA",
   "language": "python",
   "name": "python3"
  },
  "language_info": {
   "codemirror_mode": {
    "name": "ipython",
    "version": 3
   },
   "file_extension": ".py",
   "mimetype": "text/x-python",
   "name": "python",
   "nbconvert_exporter": "python",
   "pygments_lexer": "ipython3",
   "version": "3.13.2"
  }
 },
 "nbformat": 4,
 "nbformat_minor": 2
}
