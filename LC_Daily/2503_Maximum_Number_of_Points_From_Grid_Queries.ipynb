{
 "cells": [
  {
   "cell_type": "markdown",
   "metadata": {},
   "source": [
    "### 2503. Maximum Number of Points From Grid Queries\n",
    "\n",
    "You are given an m x n integer matrix grid and an array queries of size k.\n",
    "\n",
    "Find an array answer of size k such that for each integer queries[i] you start in the top left cell of the matrix and repeat the following process:\n",
    "\n",
    "If queries[i] is strictly greater than the value of the current cell that you are in, then you get one point if it is your first time visiting this cell, and you can move to any adjacent cell in all 4 directions: up, down, left, and right.\n",
    "Otherwise, you do not get any points, and you end this process.\n",
    "After the process, answer[i] is the maximum number of points you can get. Note that for each query you are allowed to visit the same cell multiple times.\n",
    "\n",
    "Return the resulting array answer."
   ]
  },
  {
   "cell_type": "code",
   "execution_count": null,
   "metadata": {},
   "outputs": [],
   "source": [
    "#Intuition: For the list of queries, grid elements that can satisfy a smaller query will definitely\n",
    "#be able to satisfy those that are greater.\n",
    "#So we just need to answer the list of queries in ascending order.\n",
    "#Use a priority queue, so we always the smallest elements first. \n",
    "#Should the top of the queue become greater than the current query, we move on to the next query.\n",
    "#And accumalitively track the points.\n",
    "\n",
    "from typing import List\n",
    "from heapq import *\n",
    "def maxPoints(grid: List[List[int]], queries: List[int]) -> List[int]:\n",
    "    dirs = [[0,1],[1,0],[-1,0],[0,-1]]\n",
    "    m, n = len(grid), len(grid[0])\n",
    "    \n",
    "    #1. Sort the query, keep track of ind\n",
    "    q = [[n, i] for i,n in enumerate(queries)]\n",
    "    q.sort()\n",
    "    \n",
    "    #2. Initialize min_heap from left corner of grid, initial score = 0, add left corner to visited so we dont visit the same tile twice\n",
    "    min_heap = [[grid[0][0],0,0]]\n",
    "    heapify(min_heap)\n",
    "    visited = set([(0,0)])\n",
    "    score = 0\n",
    "    res = [0] * len(queries)\n",
    "    \n",
    "    #3. Start the BFS with min_heap\n",
    "    for limit, ind in q:\n",
    "        while min_heap and min_heap[0][0] < limit:\n",
    "            tile, i, j = heappop(min_heap)\n",
    "            score += 1\n",
    "            \n",
    "            for di, dj in dirs:\n",
    "                ni, nj = di + i, dj + j\n",
    "                if (\n",
    "                    not (ni,nj) in visited and\n",
    "                    0 <= ni < m and 0 <= nj < n\n",
    "                ):\n",
    "                    heappush(min_heap, [grid[ni][nj], ni, nj])\n",
    "                    visited.add((ni, nj))\n",
    "        res[ind] = score\n",
    "\n",
    "    return res"
   ]
  },
  {
   "cell_type": "code",
   "execution_count": 7,
   "metadata": {},
   "outputs": [],
   "source": [
    "grid = [[1,2,3],[2,5,7],[3,5,1]]\n",
    "queries = [5,6,2]\n",
    "assert maxPoints(grid, queries) == [5, 8, 1], \"Wrong Answer\""
   ]
  }
 ],
 "metadata": {
  "kernelspec": {
   "display_name": "DSA",
   "language": "python",
   "name": "python3"
  },
  "language_info": {
   "codemirror_mode": {
    "name": "ipython",
    "version": 3
   },
   "file_extension": ".py",
   "mimetype": "text/x-python",
   "name": "python",
   "nbconvert_exporter": "python",
   "pygments_lexer": "ipython3",
   "version": "3.13.2"
  }
 },
 "nbformat": 4,
 "nbformat_minor": 2
}
