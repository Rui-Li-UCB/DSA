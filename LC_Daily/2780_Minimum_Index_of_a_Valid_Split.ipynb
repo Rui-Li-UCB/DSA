{
 "cells": [
  {
   "cell_type": "markdown",
   "metadata": {},
   "source": [
    "## 2708. Minimum Index of a Valid Split\n",
    "An element x of an integer array arr of length m is dominant if more than half the elements of arr have a value of x.\n",
    "\n",
    "You are given a 0-indexed integer array nums of length n with one dominant element.\n",
    "\n",
    "You can split nums at an index i into two arrays nums[0, ..., i] and nums[i + 1, ..., n - 1], but the split is only valid if:\n",
    "\n",
    "0 <= i < n - 1\n",
    "nums[0, ..., i], and nums[i + 1, ..., n - 1] have the same dominant element.\n",
    "Here, nums[i, ..., j] denotes the subarray of nums starting at index i and ending at index j, both ends being inclusive. Particularly, if j < i then nums[i, ..., j] denotes an empty subarray.\n",
    "\n",
    "Return the minimum index of a valid split. If no valid split exists, return -1."
   ]
  },
  {
   "cell_type": "code",
   "execution_count": 4,
   "metadata": {},
   "outputs": [],
   "source": [
    "# Intuition: Get the dominant element and it's frequency, use a silding window to find the valid split\n",
    "\n",
    "from typing import List\n",
    "from collections import defaultdict\n",
    "def minimumIndex(nums: List[int]) -> int:\n",
    "    count = defaultdict(int)\n",
    "    dom = None\n",
    "    freq = float('-inf')\n",
    "    for num in nums:\n",
    "        count[num] += 1\n",
    "        if count[num] > freq:\n",
    "            dom = num\n",
    "            freq = count[num]\n",
    "    \n",
    "    left_f = 0        \n",
    "    for i, num in enumerate(nums):\n",
    "        if num == dom:\n",
    "            left_f += 1\n",
    "            freq -= 1\n",
    "            if left_f * 2 > i + 1 and freq * 2 > len(nums) - i - 1:\n",
    "                return i\n",
    "    return -1 "
   ]
  },
  {
   "cell_type": "code",
   "execution_count": null,
   "metadata": {},
   "outputs": [],
   "source": [
    "# Another approach to finding the dominant is using Boyer–Moore Majority Vote Algo\n",
    "# Because the dominant element appears more than everyone else combined, \n",
    "# even after canceling out all the non-dominant ones, the dominant element still has a net positive count \n",
    "# and it will be the final candidate when the loop ends.\n",
    "\n",
    "# ie: count of dominant (>n/2) > count of all other elements (<n/2)\n",
    "count = 0\n",
    "dom = None\n",
    "for num in nums:\n",
    "    if count == 0:\n",
    "        dom = num\n",
    "    count += 1 if dom == num else -1"
   ]
  },
  {
   "cell_type": "code",
   "execution_count": 5,
   "metadata": {},
   "outputs": [],
   "source": [
    "nums = [2,1,3,1,1,1,7,1,2,1]\n",
    "assert minimumIndex(nums) == 4, \"Wrong Answer\""
   ]
  }
 ],
 "metadata": {
  "kernelspec": {
   "display_name": "DSA",
   "language": "python",
   "name": "python3"
  },
  "language_info": {
   "codemirror_mode": {
    "name": "ipython",
    "version": 3
   },
   "file_extension": ".py",
   "mimetype": "text/x-python",
   "name": "python",
   "nbconvert_exporter": "python",
   "pygments_lexer": "ipython3",
   "version": "3.13.2"
  }
 },
 "nbformat": 4,
 "nbformat_minor": 2
}
