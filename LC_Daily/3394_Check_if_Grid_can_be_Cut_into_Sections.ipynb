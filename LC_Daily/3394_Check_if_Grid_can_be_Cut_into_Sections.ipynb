{
 "cells": [
  {
   "cell_type": "markdown",
   "metadata": {},
   "source": [
    "### 3394. Check if Grid can be Cut into Sections\n",
    "You are given an integer n representing the dimensions of an n x n grid, with the origin at the bottom-left corner of the grid. You are also given a 2D array of coordinates rectangles, where rectangles[i] is in the form [startx, starty, endx, endy], representing a rectangle on the grid. Each rectangle is defined as follows:\n",
    "\n",
    "(startx, starty): The bottom-left corner of the rectangle.\n",
    "(endx, endy): The top-right corner of the rectangle.\n",
    "Note that the rectangles do not overlap. Your task is to determine if it is possible to make either two horizontal or two vertical cuts on the grid such that:\n",
    "\n",
    "Each of the three resulting sections formed by the cuts contains at least one rectangle.\n",
    "Every rectangle belongs to exactly one section.\n",
    "Return true if such cuts can be made; otherwise, return false."
   ]
  },
  {
   "cell_type": "code",
   "execution_count": 1,
   "metadata": {},
   "outputs": [],
   "source": [
    "# Intuition: intervals problem. \n",
    "# We only need to count if there are >= 3 non-overlapping intervals on either x axis or y axis\n",
    "# Seperate the two axes into two arrays of intervals; Determine the non-overlapping sections count;\n",
    "from typing import List\n",
    "def checkValidCuts(n: int, rectangles: List[List[int]]) -> bool:\n",
    "    def get_sections(axis: List[List[int]]) -> bool:\n",
    "        count = 0\n",
    "        max_e = 0\n",
    "        for s, e in axis:\n",
    "            if s >= max_e:\n",
    "                count += 1\n",
    "            max_e = max(max_e, e)\n",
    "            if count == 3:\n",
    "                return True\n",
    "        return False\n",
    "\n",
    "    x = [[rec[0], rec[2]] for rec in rectangles]\n",
    "    y = [[rec[1], rec[3]] for rec in rectangles]\n",
    "    x.sort()\n",
    "    y.sort()\n",
    "    \n",
    "    return get_sections(x) or get_sections(y)\n",
    "    "
   ]
  },
  {
   "cell_type": "code",
   "execution_count": 2,
   "metadata": {},
   "outputs": [],
   "source": [
    "n = 5\n",
    "rectangles = [[1,0,5,2],[0,2,2,4],[3,2,5,3],[0,4,4,5]]\n",
    "assert checkValidCuts(n, rectangles) == True, \"Wrong Answer\""
   ]
  }
 ],
 "metadata": {
  "kernelspec": {
   "display_name": "DSA",
   "language": "python",
   "name": "python3"
  },
  "language_info": {
   "codemirror_mode": {
    "name": "ipython",
    "version": 3
   },
   "file_extension": ".py",
   "mimetype": "text/x-python",
   "name": "python",
   "nbconvert_exporter": "python",
   "pygments_lexer": "ipython3",
   "version": "3.13.2"
  }
 },
 "nbformat": 4,
 "nbformat_minor": 2
}
