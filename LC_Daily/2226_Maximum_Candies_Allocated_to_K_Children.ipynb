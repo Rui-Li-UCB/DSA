{
 "cells": [
  {
   "cell_type": "markdown",
   "metadata": {},
   "source": [
    "### 2226. Maximum Candies Allocated to K Children\n",
    "You are given a 0-indexed integer array candies. Each element in the array denotes a pile of candies of size candies[i]. You can divide each pile into any number of sub piles, but you cannot merge two piles together.\n",
    "\n",
    "You are also given an integer k. You should allocate piles of candies to k children such that each child gets the same number of candies. Each child can be allocated candies from only one pile of candies and some piles of candies may go unused.\n",
    "\n",
    "Return the maximum number of candies each child can get."
   ]
  },
  {
   "cell_type": "code",
   "execution_count": 3,
   "metadata": {},
   "outputs": [],
   "source": [
    "''' Intuition: Use binary search to find the maximum number of candies\n",
    "    The candidate will be in the range of 1 to total candies//k\n",
    "'''\n",
    "def maximumCandies(candies, k):\n",
    "    total = sum(candies)\n",
    "    if total < k: return 0 # Cannot give each child at least 1 candy\n",
    "    l, r = 1, total//k # The range to search for candy count\n",
    "    \n",
    "    while l <= r: # Using l <= r to search entire range (l < r stops at l == r)\n",
    "        m = (l+r)//2\n",
    "        n = sum(pile//m for pile in candies)\n",
    "        if n >= k:\n",
    "            l = m + 1\n",
    "        else:\n",
    "            r = m - 1\n",
    "    return r # r will be the maximum valid candidate"
   ]
  },
  {
   "cell_type": "code",
   "execution_count": 4,
   "metadata": {},
   "outputs": [
    {
     "data": {
      "text/plain": [
       "True"
      ]
     },
     "execution_count": 4,
     "metadata": {},
     "output_type": "execute_result"
    }
   ],
   "source": [
    "candies = [5,8,6]\n",
    "k = 3\n",
    "maximumCandies(candies, k) == 5"
   ]
  }
 ],
 "metadata": {
  "kernelspec": {
   "display_name": "DSA",
   "language": "python",
   "name": "python3"
  },
  "language_info": {
   "codemirror_mode": {
    "name": "ipython",
    "version": 3
   },
   "file_extension": ".py",
   "mimetype": "text/x-python",
   "name": "python",
   "nbconvert_exporter": "python",
   "pygments_lexer": "ipython3",
   "version": "3.13.2"
  }
 },
 "nbformat": 4,
 "nbformat_minor": 2
}
