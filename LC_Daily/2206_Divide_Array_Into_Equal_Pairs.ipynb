{
 "cells": [
  {
   "cell_type": "markdown",
   "metadata": {},
   "source": [
    "### 2206. Divide Array Into Equal Pairs\n",
    "You are given an integer array nums consisting of 2 * n integers.\n",
    "\n",
    "You need to divide nums into n pairs such that:\n",
    "\n",
    "Each element belongs to exactly one pair.\n",
    "The elements present in a pair are equal.\n",
    "Return true if nums can be divided into n pairs, otherwise return false."
   ]
  },
  {
   "cell_type": "code",
   "execution_count": 1,
   "metadata": {},
   "outputs": [],
   "source": [
    "#Intuition: Use a counter to get occurrence of number in array\n",
    "#If occurrence divisible by 2 it can create 1 or more pairs, continue\n",
    "#If odd occurrence, cannot create pair return False immediately\n",
    "from typing import List\n",
    "from collections import Counter\n",
    "def divideArray(nums: List[int]) -> bool:\n",
    "    cnt = Counter(nums)\n",
    "    for num in cnt:\n",
    "        if cnt[num] % 2:\n",
    "            return False\n",
    "    return True"
   ]
  },
  {
   "cell_type": "code",
   "execution_count": 2,
   "metadata": {},
   "outputs": [],
   "source": [
    "nums = [3,2,3,2,2,2]\n",
    "assert divideArray(nums) == True, 'Wrong Answer'"
   ]
  }
 ],
 "metadata": {
  "kernelspec": {
   "display_name": "DSA",
   "language": "python",
   "name": "python3"
  },
  "language_info": {
   "codemirror_mode": {
    "name": "ipython",
    "version": 3
   },
   "file_extension": ".py",
   "mimetype": "text/x-python",
   "name": "python",
   "nbconvert_exporter": "python",
   "pygments_lexer": "ipython3",
   "version": "3.13.2"
  }
 },
 "nbformat": 4,
 "nbformat_minor": 2
}
