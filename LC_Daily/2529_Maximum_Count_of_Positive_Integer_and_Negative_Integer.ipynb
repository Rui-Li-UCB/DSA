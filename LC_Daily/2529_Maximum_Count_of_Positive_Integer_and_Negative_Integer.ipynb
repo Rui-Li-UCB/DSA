{
 "cells": [
  {
   "cell_type": "markdown",
   "metadata": {},
   "source": [
    "### 2529. Maximum Count of Positive Integer and Negative Integer\n",
    "\n",
    "Given an array nums sorted in non-decreasing order, return the maximum between the number of positive integers and the number of negative integers.\n",
    "\n",
    "In other words, if the number of positive integers in nums is pos and the number of negative integers is neg, then return the maximum of pos and neg.\n",
    "Note that 0 is neither positive nor negative."
   ]
  },
  {
   "cell_type": "code",
   "execution_count": 2,
   "metadata": {},
   "outputs": [],
   "source": [
    "# Intuition: Since the arr is sorted in non-decreasing\n",
    "# We can use this information and conduct binary search to find count of neg and pos\n",
    "# Pos will be length of arr - length of sub arrs < 1 \n",
    "# The binary search will find length of sub arr smaller than given target (arg)\n",
    "def maximumCount(nums):\n",
    "    neg = binary_search(nums, 0)\n",
    "    pos = len(nums)-binary_search(nums, 1)\n",
    "    return max(neg, pos)\n",
    "\n",
    "def binary_search(nums, target):\n",
    "    l, r = 0, len(nums) - 1\n",
    "    res = len(nums)\n",
    "\n",
    "    while l <= r:\n",
    "        mid = (l+r)//2\n",
    "        if nums[mid] < target:\n",
    "            l = mid + 1\n",
    "        else:\n",
    "            res = mid\n",
    "            r = mid - 1\n",
    "    return res"
   ]
  },
  {
   "cell_type": "code",
   "execution_count": 3,
   "metadata": {},
   "outputs": [
    {
     "data": {
      "text/plain": [
       "True"
      ]
     },
     "execution_count": 3,
     "metadata": {},
     "output_type": "execute_result"
    }
   ],
   "source": [
    "nums = [-3,-2,-1,0,0,1,2,3]\n",
    "3 == maximumCount(nums)"
   ]
  }
 ],
 "metadata": {
  "kernelspec": {
   "display_name": "base",
   "language": "python",
   "name": "python3"
  },
  "language_info": {
   "codemirror_mode": {
    "name": "ipython",
    "version": 3
   },
   "file_extension": ".py",
   "mimetype": "text/x-python",
   "name": "python",
   "nbconvert_exporter": "python",
   "pygments_lexer": "ipython3",
   "version": "3.9.12"
  }
 },
 "nbformat": 4,
 "nbformat_minor": 2
}
