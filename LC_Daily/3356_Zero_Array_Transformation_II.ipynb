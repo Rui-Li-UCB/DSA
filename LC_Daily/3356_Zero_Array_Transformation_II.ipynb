{
 "cells": [
  {
   "cell_type": "markdown",
   "metadata": {},
   "source": [
    "### 3356. Zero Array Transformation II\n",
    "\n",
    "You are given an integer array nums of length n and a 2D array queries where queries[i] = [li, ri, vali].\n",
    "\n",
    "Each queries[i] represents the following action on nums:\n",
    "\n",
    "Decrement the value at each index in the range [li, ri] in nums by at most vali.\n",
    "The amount by which each value is decremented can be chosen independently for each index.\n",
    "A Zero Array is an array with all its elements equal to 0.\n",
    "\n",
    "Return the minimum possible non-negative value of k, such that after processing the first k queries in sequence, nums becomes a Zero Array. If no such k exists, return -1."
   ]
  },
  {
   "cell_type": "code",
   "execution_count": 2,
   "metadata": {},
   "outputs": [],
   "source": [
    "# Intuition: Use a difference array to track the max that can be subtracted from each element after k queries\n",
    "# Difference array: [0] * n+1 elements, add at position range according to query, after exceeding this range, subtract from position that immediately follows(r+1)\n",
    "# Use binary search to find the min \n",
    "\n",
    "def minZeroArray(nums, queries):\n",
    "    n = len(nums)\n",
    "    \n",
    "    def can_make_zero_array(k):\n",
    "        diff = [0] * (n + 1)\n",
    "        \n",
    "        for i in range(k):\n",
    "            left, right, val = queries[i]\n",
    "            diff[left] += val\n",
    "            diff[right + 1] -= val\n",
    "        \n",
    "        curr_val = 0\n",
    "        for i in range(n):\n",
    "            curr_val += diff[i]\n",
    "            if curr_val < nums[i]:\n",
    "                return False\n",
    "        \n",
    "        return True\n",
    "    \n",
    "    if all(x == 0 for x in nums):\n",
    "        return 0\n",
    "    \n",
    "    left, right = 1, len(queries)\n",
    "    \n",
    "    if not can_make_zero_array(right):\n",
    "        return -1\n",
    "    \n",
    "    while left < right:\n",
    "        mid = left + (right - left) // 2\n",
    "        \n",
    "        if can_make_zero_array(mid):\n",
    "            right = mid\n",
    "        else:\n",
    "            left = mid + 1\n",
    "    \n",
    "    return left"
   ]
  },
  {
   "cell_type": "code",
   "execution_count": 3,
   "metadata": {},
   "outputs": [
    {
     "data": {
      "text/plain": [
       "True"
      ]
     },
     "execution_count": 3,
     "metadata": {},
     "output_type": "execute_result"
    }
   ],
   "source": [
    "nums = [2,0,2]\n",
    "queries = [[0,2,1],[0,2,1],[1,1,3]]\n",
    "minZeroArray(nums, queries) == 2"
   ]
  }
 ],
 "metadata": {
  "kernelspec": {
   "display_name": "DSA",
   "language": "python",
   "name": "python3"
  },
  "language_info": {
   "codemirror_mode": {
    "name": "ipython",
    "version": 3
   },
   "file_extension": ".py",
   "mimetype": "text/x-python",
   "name": "python",
   "nbconvert_exporter": "python",
   "pygments_lexer": "ipython3",
   "version": "3.13.2"
  }
 },
 "nbformat": 4,
 "nbformat_minor": 2
}
