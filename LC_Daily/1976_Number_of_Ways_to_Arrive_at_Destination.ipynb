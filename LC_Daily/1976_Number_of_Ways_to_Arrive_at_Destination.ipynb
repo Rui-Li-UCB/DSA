{
 "cells": [
  {
   "cell_type": "markdown",
   "metadata": {},
   "source": [
    "### 1976. Number of Ways to Arrive at Destination\n",
    "You are in a city that consists of n intersections numbered from 0 to n - 1 with bi-directional roads between some intersections. The inputs are generated such that you can reach any intersection from any other intersection and that there is at most one road between any two intersections.\n",
    "\n",
    "You are given an integer n and a 2D integer array roads where roads[i] = [ui, vi, timei] means that there is a road between intersections ui and vi that takes timei minutes to travel. You want to know in how many ways you can travel from intersection 0 to intersection n - 1 in the shortest amount of time.\n",
    "\n",
    "Return the number of ways you can arrive at your destination in the shortest amount of time. Since the answer may be large, return it modulo 10**9 + 7."
   ]
  },
  {
   "cell_type": "code",
   "execution_count": 14,
   "metadata": {},
   "outputs": [],
   "source": [
    "# Key points: \n",
    "# 1. The path to get to a node can be very big (indicated by the mod)\n",
    "# Intuition:\n",
    "# 1. To minimize s -> e traversal, we can use dijkstra's algorithm\n",
    "# 2. Use min-heap to prioritze the path to current node with minimum weight\n",
    "# 3. Track min-weight and path count for each node\n",
    "from typing import List\n",
    "from collections import defaultdict\n",
    "import heapq\n",
    "def countPaths(n: int, roads: List[List[int]]) -> int:\n",
    "    # 1. Build adjacency list mapping node -> (node, weight)\n",
    "    adj_list = defaultdict(list)\n",
    "    for v1, v2, w in roads:\n",
    "        adj_list[v1].append([v2, w])\n",
    "        adj_list[v2].append([v1, w])\n",
    "        \n",
    "    # 2. Implement dijkstra's algo starting at node 0, with 0 weight\n",
    "    # Tracking min-weight and path count\n",
    "    q = [[0,0]]\n",
    "    heapq.heapify(q)\n",
    "    path_count = [0] * n\n",
    "    path_count[0] = 1\n",
    "    min_weight = [float('inf')] * n\n",
    "    mod = 10 ** 9 + 7\n",
    "    while q:\n",
    "        cost, curr = heapq.heappop(q)\n",
    "        \n",
    "        for nei, w in adj_list[curr]:\n",
    "            new_w = w + cost\n",
    "            if new_w < min_weight[nei]:\n",
    "                min_weight[nei] = new_w\n",
    "                path_count[nei] = path_count[curr]\n",
    "                heapq.heappush(q, [new_w, nei])\n",
    "            elif new_w == min_weight[nei]:\n",
    "                path_count[nei] = (path_count[nei] + path_count[curr]) % mod\n",
    "    return path_count[n-1]\n",
    "    "
   ]
  },
  {
   "cell_type": "code",
   "execution_count": 15,
   "metadata": {},
   "outputs": [],
   "source": [
    "n = 7\n",
    "roads = [[0,6,7],[0,1,2],[1,2,3],[1,3,3],[6,3,3],[3,5,1],[6,5,1],[2,5,1],[0,4,5],[4,6,2]]\n",
    "assert countPaths(n, roads) == 4, \"Wrong Answer\""
   ]
  }
 ],
 "metadata": {
  "kernelspec": {
   "display_name": "DSA",
   "language": "python",
   "name": "python3"
  },
  "language_info": {
   "codemirror_mode": {
    "name": "ipython",
    "version": 3
   },
   "file_extension": ".py",
   "mimetype": "text/x-python",
   "name": "python",
   "nbconvert_exporter": "python",
   "pygments_lexer": "ipython3",
   "version": "3.13.2"
  }
 },
 "nbformat": 4,
 "nbformat_minor": 2
}
