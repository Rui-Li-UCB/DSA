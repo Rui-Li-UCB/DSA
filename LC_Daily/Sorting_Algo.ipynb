{
 "cells": [
  {
   "cell_type": "markdown",
   "metadata": {},
   "source": [
    "### Insertion Sort O(n**2)"
   ]
  },
  {
   "cell_type": "code",
   "execution_count": 1,
   "metadata": {},
   "outputs": [],
   "source": [
    "def insertion_sort(arr):\n",
    "    for i in range(len(arr)):\n",
    "        j = i - 1\n",
    "        while j >= 0 and arr[j] > arr[j+1]:\n",
    "            tmp = arr[j+1]\n",
    "            arr[j+1] = arr[j]\n",
    "            arr[j] = tmp\n",
    "            j -= 1\n",
    "    return None"
   ]
  },
  {
   "cell_type": "code",
   "execution_count": 2,
   "metadata": {},
   "outputs": [
    {
     "data": {
      "text/plain": [
       "[1, 2, 3, 4]"
      ]
     },
     "execution_count": 2,
     "metadata": {},
     "output_type": "execute_result"
    }
   ],
   "source": [
    "arr = [4,3,2,1]\n",
    "insertion_sort(arr)\n",
    "arr"
   ]
  },
  {
   "cell_type": "markdown",
   "metadata": {},
   "source": [
    "### Merge Sort O(nlogn)"
   ]
  },
  {
   "cell_type": "code",
   "execution_count": 6,
   "metadata": {},
   "outputs": [],
   "source": [
    "def merge(arr, s, m, e):\n",
    "    l = arr[s: m+1]\n",
    "    r = arr[m+1: e+1]\n",
    "    \n",
    "    i = j = 0\n",
    "    k = s\n",
    "    \n",
    "    while i < len(l) and j < len(r):\n",
    "        if l[i] <= r[j]:\n",
    "            arr[k] = l[i]\n",
    "            i += 1\n",
    "        else:\n",
    "            arr[k] = r[j]\n",
    "            j += 1\n",
    "        k += 1\n",
    "        \n",
    "    while i < len(l):\n",
    "        arr[k] = l[i]\n",
    "        i += 1\n",
    "        k += 1\n",
    "    while j < len(r):\n",
    "        arr[k] = r[j]\n",
    "        j += 1\n",
    "        k += 1\n",
    "        \n",
    "def merge_sort(arr, s, e):\n",
    "    if e <= s:\n",
    "        return arr\n",
    "    m = (s + e) // 2\n",
    "    \n",
    "    merge_sort(arr, s, m)\n",
    "    merge_sort(arr, m+1, e)\n",
    "    \n",
    "    merge(arr, s, m, e)\n",
    "    \n",
    "    return arr\n",
    "    "
   ]
  },
  {
   "cell_type": "code",
   "execution_count": 7,
   "metadata": {},
   "outputs": [
    {
     "data": {
      "text/plain": [
       "[1, 2, 3, 4]"
      ]
     },
     "execution_count": 7,
     "metadata": {},
     "output_type": "execute_result"
    }
   ],
   "source": [
    "arr = [4,3,2,1]\n",
    "merge_sort(arr,0,len(arr) -1)"
   ]
  },
  {
   "cell_type": "markdown",
   "metadata": {},
   "source": [
    "### Quick Sort"
   ]
  },
  {
   "cell_type": "code",
   "execution_count": 18,
   "metadata": {},
   "outputs": [],
   "source": [
    "from typing import List\n",
    "def quickSort(arr:List[int], s:int, e:int) -> List[int]:\n",
    "    if e - s + 1 <= 1:\n",
    "        return arr\n",
    "    \n",
    "    pivot = arr[e]\n",
    "    l = s\n",
    "    \n",
    "    for i in range(s, e):\n",
    "        if arr[i] < pivot: #If current element is smaller than pivot, swap it with the left most element\n",
    "            tmp = arr[l]\n",
    "            arr[l] = arr[i]\n",
    "            arr[i] = tmp\n",
    "            l += 1\n",
    "    \n",
    "        #Swap pivot with where l was left on, creating patition between values < pivot, pivot, and values > pivot\n",
    "    arr[e] = arr[l]\n",
    "    arr[l] = pivot\n",
    "    \n",
    "    quickSort(arr, s, l-1) #Sort s and the element to the left of pivot (new position - l - 1)\n",
    "    quickSort(arr, l+1, e) #Sort elements after pivot (l+1)\n",
    "    \n",
    "    return arr\n",
    "    "
   ]
  },
  {
   "cell_type": "code",
   "execution_count": 22,
   "metadata": {},
   "outputs": [],
   "source": [
    "arr = [4,3,2,1]\n",
    "assert quickSort(arr, 0, len(arr) - 1) == [1,2,3,4], 'Wrong Answer'"
   ]
  },
  {
   "cell_type": "markdown",
   "metadata": {},
   "source": [
    "### Bucket Sort"
   ]
  },
  {
   "cell_type": "code",
   "execution_count": 23,
   "metadata": {},
   "outputs": [],
   "source": [
    "def bucketSort(arr:List[int]) -> List[int]:\n",
    "    #For sorting 0-2 in consecutive order\n",
    "    counts = [0] * 3\n",
    "    for n in arr:\n",
    "        counts[n] += 1\n",
    "        #Count occurrence of each number\n",
    "    \n",
    "    i = 0\n",
    "    for n in range(3):\n",
    "        for j in range(counts[n]):\n",
    "            #For each number in 0-2, update arr from index i to i+occurence with number\n",
    "            arr[i] = n\n",
    "            i += 1\n",
    "    return arr"
   ]
  },
  {
   "cell_type": "code",
   "execution_count": 24,
   "metadata": {},
   "outputs": [],
   "source": [
    "arr = [0,0,2,0,0,1,2,2]\n",
    "assert bucketSort(arr) == [0,0,0,0,1,2,2,2], 'Wrong Answer'"
   ]
  }
 ],
 "metadata": {
  "kernelspec": {
   "display_name": "DSA",
   "language": "python",
   "name": "python3"
  },
  "language_info": {
   "codemirror_mode": {
    "name": "ipython",
    "version": 3
   },
   "file_extension": ".py",
   "mimetype": "text/x-python",
   "name": "python",
   "nbconvert_exporter": "python",
   "pygments_lexer": "ipython3",
   "version": "3.13.2"
  }
 },
 "nbformat": 4,
 "nbformat_minor": 2
}
