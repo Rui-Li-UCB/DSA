{
 "cells": [
  {
   "cell_type": "markdown",
   "metadata": {},
   "source": [
    "### 1780. Check if Number is a Sum of Powers of Three\n",
    "Given an integer n, return true if it is possible to represent n as the sum of distinct powers of three. Otherwise, return false.\n",
    "\n",
    "An integer y is a power of three if there exists an integer x such that y == 3^x.\n",
    "\n",
    " \n",
    "\n",
    "Example 1:\n",
    "\n",
    "Input: n = 12\n",
    "Output: true\n",
    "Explanation: 12 = 31 + 32\n",
    "Example 2:\n",
    "\n",
    "Input: n = 91\n",
    "Output: true\n",
    "Explanation: 91 = 30 + 32 + 34\n",
    "Example 3:\n",
    "\n",
    "Input: n = 21\n",
    "Output: false"
   ]
  },
  {
   "cell_type": "code",
   "execution_count": 2,
   "metadata": {},
   "outputs": [],
   "source": [
    "def checkPowersOfThree(n: int) -> bool:\n",
    "        # Iterate while n is greater than 0\n",
    "        while n > 0:\n",
    "            remainder = n % 3  # Get the remainder when dividing by 3\n",
    "            \n",
    "            # If remainder is 2, it means n cannot be represented as a sum of distinct powers of 3\n",
    "            if remainder == 2:\n",
    "                return False  \n",
    "            \n",
    "            # Reduce n by integer division of 3 (move to the next power of 3)\n",
    "            n //= 3  # Equivalent to n = n // 3\n",
    "        \n",
    "        # If we never encountered remainder == 2, return True\n",
    "        return True"
   ]
  },
  {
   "cell_type": "code",
   "execution_count": 3,
   "metadata": {},
   "outputs": [
    {
     "data": {
      "text/plain": [
       "True"
      ]
     },
     "execution_count": 3,
     "metadata": {},
     "output_type": "execute_result"
    }
   ],
   "source": [
    "n = 12\n",
    "checkPowersOfThree(n) == True"
   ]
  }
 ],
 "metadata": {
  "kernelspec": {
   "display_name": "DSA",
   "language": "python",
   "name": "python3"
  },
  "language_info": {
   "codemirror_mode": {
    "name": "ipython",
    "version": 3
   },
   "file_extension": ".py",
   "mimetype": "text/x-python",
   "name": "python",
   "nbconvert_exporter": "python",
   "pygments_lexer": "ipython3",
   "version": "3.13.2"
  }
 },
 "nbformat": 4,
 "nbformat_minor": 2
}
